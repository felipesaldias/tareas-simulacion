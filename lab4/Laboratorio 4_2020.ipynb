{
 "cells": [
  {
   "cell_type": "markdown",
   "metadata": {},
   "source": [
    "# SIMULACIÓN | LABORATORIO 4\n"
   ]
  },
  {
   "cell_type": "markdown",
   "metadata": {},
   "source": [
    "## Generación de número pseudo-aleatorios"
   ]
  },
  {
   "cell_type": "code",
   "execution_count": 1680,
   "metadata": {},
   "outputs": [],
   "source": [
    "import numpy as np\n",
    "import matplotlib.pyplot as plt\n",
    "import pandas as pd\n",
    "import seaborn as sns\n",
    "import scipy \n",
    "from IPython.display import display\n",
    "import ipywidgets as widgets\n",
    "import random"
   ]
  },
  {
   "cell_type": "markdown",
   "metadata": {},
   "source": [
    "### El módulo Random de python \n"
   ]
  },
  {
   "cell_type": "markdown",
   "metadata": {},
   "source": [
    "**Ejercicio 1:**\n",
    "- Defina lo que es una semilla y para qué sirve\n",
    "- use random.random() para generar números aleatorios. \n",
    "- use una semilla con random.seed(semilla), y vuelva a ejecutar random.random()\n",
    "- ¿qué ocurre si vuelve a definir la misma semilla y ejecutar random.random()?\n",
    "\n"
   ]
  },
  {
   "cell_type": "markdown",
   "metadata": {},
   "source": [
    "Es un vector o numero utilizado para inicializar generadores pseudo aleatorios. Se utilizan para permitir la replicabilidad de un experimento que involuquen procesos con numeros generados de manera pseudo aleatoria "
   ]
  },
  {
   "cell_type": "code",
   "execution_count": 3,
   "metadata": {},
   "outputs": [
    {
     "data": {
      "text/plain": [
       "0.3700880309978033"
      ]
     },
     "execution_count": 3,
     "metadata": {},
     "output_type": "execute_result"
    }
   ],
   "source": [
    "random.random()"
   ]
  },
  {
   "cell_type": "code",
   "execution_count": 999,
   "metadata": {},
   "outputs": [
    {
     "data": {
      "text/plain": [
       "0.827170565342314"
      ]
     },
     "execution_count": 999,
     "metadata": {},
     "output_type": "execute_result"
    }
   ],
   "source": [
    "random.seed(111)\n",
    "random.random()"
   ]
  },
  {
   "cell_type": "markdown",
   "metadata": {},
   "source": [
    "¿qué ocurre si vuelve a definir la misma semilla y ejecutar random.random()?\n",
    "\n",
    "R:// \n",
    "se genera el mismo numero  "
   ]
  },
  {
   "cell_type": "markdown",
   "metadata": {},
   "source": [
    "**Ejercicio 2:**\n",
    "Pruebe las funciones y defina sus diferencias:\n",
    "\n",
    "    - random.randint(a, b)\n",
    "    - random.randrange(a, b)\n",
    "    - random.uniform(a, b)\n",
    "    "
   ]
  },
  {
   "cell_type": "markdown",
   "metadata": {},
   "source": [
    "**la mayoria de las funciones que generan numeros de la libreria random generan numeros siguiendo la distribucion uniforme**"
   ]
  },
  {
   "cell_type": "markdown",
   "metadata": {},
   "source": [
    "- randint(a,b) genera valores pseudoaleatorios enteros entre a y b, limites incluidos, se puede obtener el mismo resultado con random.randrange(a,b+1) "
   ]
  },
  {
   "cell_type": "code",
   "execution_count": 1085,
   "metadata": {},
   "outputs": [],
   "source": [
    "random.randint??"
   ]
  },
  {
   "cell_type": "code",
   "execution_count": 1263,
   "metadata": {},
   "outputs": [
    {
     "data": {
      "text/plain": [
       "1"
      ]
     },
     "execution_count": 1263,
     "metadata": {},
     "output_type": "execute_result"
    }
   ],
   "source": [
    "random.randint(1,10)"
   ]
  },
  {
   "cell_type": "markdown",
   "metadata": {},
   "source": [
    "- `random.randrange(a, b, step)` genera valores pseudo aleatorios enteros entre a y b, sin incluir el b. tambien acepta como argumento adicional un paso con el cual los posibles n valores a generarse quedan $n= a + paso * i$ con todas las $i >= 0$ con tal de que $a + paso * i < b$.  El valor por defecto para step en caso que no se entregue un valor para el es 1. el valor por defecto para a es 0, por lo que esta funcion puede ser llamada simplemente `random.randrange(b)`"
   ]
  },
  {
   "cell_type": "code",
   "execution_count": 1334,
   "metadata": {},
   "outputs": [
    {
     "data": {
      "text/plain": [
       "15"
      ]
     },
     "execution_count": 1334,
     "metadata": {},
     "output_type": "execute_result"
    }
   ],
   "source": [
    "random.randrange(0, 20, 5)"
   ]
  },
  {
   "cell_type": "code",
   "execution_count": 1087,
   "metadata": {},
   "outputs": [],
   "source": [
    "random.randrange??"
   ]
  },
  {
   "cell_type": "code",
   "execution_count": 1221,
   "metadata": {
    "scrolled": true
   },
   "outputs": [
    {
     "data": {
      "text/plain": [
       "4"
      ]
     },
     "execution_count": 1221,
     "metadata": {},
     "output_type": "execute_result"
    }
   ],
   "source": [
    "random.randrange(5)"
   ]
  },
  {
   "cell_type": "markdown",
   "metadata": {},
   "source": [
    "`random.uniform(a,b)` genera numeros flotantes entre a y b "
   ]
  },
  {
   "cell_type": "code",
   "execution_count": 1335,
   "metadata": {},
   "outputs": [],
   "source": [
    "random.uniform??"
   ]
  },
  {
   "cell_type": "code",
   "execution_count": 1389,
   "metadata": {},
   "outputs": [
    {
     "data": {
      "text/plain": [
       "0.1859515758202397"
      ]
     },
     "execution_count": 1389,
     "metadata": {},
     "output_type": "execute_result"
    }
   ],
   "source": [
    "random.uniform(0, 0.2)"
   ]
  },
  {
   "cell_type": "markdown",
   "metadata": {},
   "source": [
    "### Clase NotSoRandom:"
   ]
  },
  {
   "cell_type": "code",
   "execution_count": 1490,
   "metadata": {},
   "outputs": [],
   "source": [
    "class NotSoRandom(object):\n",
    "    def seed(self, a=3):\n",
    "        \"\"\"Seed the world's most mysterious random number generator.\"\"\"\n",
    "        self.seedval = a\n",
    "    def random(self):\n",
    "        \"\"\"Look, random numbers!\"\"\"\n",
    "        self.seedval = (self.seedval * 3) % 19\n",
    "        return self.seedval\n",
    "\n",
    "_inst = NotSoRandom()\n",
    "seed = _inst.seed\n",
    "random = _inst.random\n"
   ]
  },
  {
   "cell_type": "markdown",
   "metadata": {},
   "source": [
    "**Ejercicio 3:**\n",
    "- use la semilla 1234 y genere números aleatorios hasta que se cumpla un ciclo completo. ¿Cuál resultó ser el periodo?\n",
    "- Intente con otra semilla y busque completar un ciclo. "
   ]
  },
  {
   "cell_type": "markdown",
   "metadata": {},
   "source": [
    "Por la manera en la que  esta construido este generador en donde cada numero determina totalmente el numero siguiente, si un numero se repite, el ciclo culminó, por lo que se puede encontrar el periodo de la siguiente manera"
   ]
  },
  {
   "cell_type": "code",
   "execution_count": 1497,
   "metadata": {
    "scrolled": true
   },
   "outputs": [
    {
     "name": "stdout",
     "output_type": "stream",
     "text": [
      "periodo:  18\n"
     ]
    }
   ],
   "source": [
    "a = NotSoRandom()\n",
    "a.seed(1234)\n",
    "first_value=a.random() \n",
    "for i in range(1,50):\n",
    "    if(a.random()==first_value):\n",
    "        print(\"periodo: \",i)\n",
    "        break\n",
    "  #  print(i ,\": \",a.random())\n"
   ]
  },
  {
   "cell_type": "code",
   "execution_count": 1524,
   "metadata": {},
   "outputs": [
    {
     "name": "stdout",
     "output_type": "stream",
     "text": [
      "periodo:  18\n"
     ]
    }
   ],
   "source": [
    "b = NotSoRandom()\n",
    "b.seed(999)\n",
    "first_value=b.random() \n",
    "for i in range(1,50):\n",
    "    if(b.random()==first_value):\n",
    "        print(\"periodo: \",i)\n",
    "        break\n",
    "  \n"
   ]
  },
  {
   "cell_type": "markdown",
   "metadata": {},
   "source": [
    "#### **Ejercicio 4:**\n",
    "En este ejercicio vamos a comparar el generador de la biblioteca Random de Python con el generador de números pseudo-aleatorios congruencial lineal descrito en la sesión téórica. Para ello se pide lo siguiente:\n",
    "1. Programe el generador de números pseudo-aleatorios congruencial lineal \n",
    "2. Extraiga secuencias del generador programado y del predefinido en Python, grafique en histogramas, compare y concluya.\n"
   ]
  },
  {
   "cell_type": "code",
   "execution_count": 1695,
   "metadata": {},
   "outputs": [],
   "source": [
    "class GeneradorCongruencialLineal(object):\n",
    "    def __init__(self, seed=1234):\n",
    "        self.u = seed\n",
    "    def next(self):\n",
    "        self.u = (16807*self.u)%2147483647\n",
    "        return self.u/2147483647"
   ]
  },
  {
   "cell_type": "code",
   "execution_count": 1696,
   "metadata": {},
   "outputs": [],
   "source": [
    "a = GeneradorCongruencialLineal()"
   ]
  },
  {
   "cell_type": "code",
   "execution_count": 1697,
   "metadata": {},
   "outputs": [
    {
     "data": {
      "text/plain": [
       "0.009657739666131204"
      ]
     },
     "execution_count": 1697,
     "metadata": {},
     "output_type": "execute_result"
    }
   ],
   "source": [
    "a.next()"
   ]
  },
  {
   "cell_type": "code",
   "execution_count": 1710,
   "metadata": {},
   "outputs": [
    {
     "data": {
      "text/plain": [
       "(array([13., 13.,  4.,  7.,  8., 11.,  7.,  8.,  4.,  6., 10.,  9.]),\n",
       " array([0.00578024, 0.08583635, 0.16589245, 0.24594856, 0.32600467,\n",
       "        0.40606078, 0.48611689, 0.56617299, 0.6462291 , 0.72628521,\n",
       "        0.80634132, 0.88639743, 0.96645354]),\n",
       " <BarContainer object of 12 artists>)"
      ]
     },
     "execution_count": 1710,
     "metadata": {},
     "output_type": "execute_result"
    },
    {
     "data": {
      "image/png": "[encoded data removed]",
      "text/plain": [
       "<Figure size 480x320 with 1 Axes>"
      ]
     },
     "metadata": {
      "needs_background": "light"
     },
     "output_type": "display_data"
    }
   ],
   "source": [
    "#numeros aleatorios con random\n",
    "random.seed(1234)\n",
    "list_aleat_py = []\n",
    "\n",
    "for i in range(100):\n",
    "    list_aleat_py.append(random.uniform(0, 1))\n",
    "fig, ax = plt.subplots(1, 1, figsize=(6, 4), dpi=80)\n",
    "ax.hist(list_aleat_py, color = 'fuchsia', edgecolor = 'black', bins = int(50/4))\n",
    "        "
   ]
  },
  {
   "cell_type": "code",
   "execution_count": 1712,
   "metadata": {},
   "outputs": [],
   "source": [
    "list_cong = [b.next() for x in range(100)]"
   ]
  },
  {
   "cell_type": "code",
   "execution_count": 1711,
   "metadata": {},
   "outputs": [
    {
     "name": "stderr",
     "output_type": "stream",
     "text": [
      "/home/felipesaldias/miniconda3/envs/simulacion/lib/python3.8/site-packages/IPython/core/displayhook.py:275: UserWarning: Output cache limit (currently 1000 entries) hit.\n",
      "Flushing oldest 200 entries.\n",
      "  warn('Output cache limit (currently {sz} entries) hit.\\n'\n"
     ]
    },
    {
     "data": {
      "text/plain": [
       "(array([ 6.,  6.,  8.,  4.,  8., 17., 13.,  5., 12.,  5.,  6., 10.]),\n",
       " array([0.00113957, 0.08223318, 0.16332678, 0.24442038, 0.32551398,\n",
       "        0.40660758, 0.48770118, 0.56879479, 0.64988839, 0.73098199,\n",
       "        0.81207559, 0.89316919, 0.97426279]),\n",
       " <BarContainer object of 12 artists>)"
      ]
     },
     "execution_count": 1711,
     "metadata": {},
     "output_type": "execute_result"
    },
    {
     "data": {
      "image/png": "[encoded data removed]",
      "text/plain": [
       "<Figure size 480x320 with 1 Axes>"
      ]
     },
     "metadata": {
      "needs_background": "light"
     },
     "output_type": "display_data"
    }
   ],
   "source": [
    "#Secuencia generador programado\n",
    "b = GeneradorCongruencialLineal()\n",
    "list_cong = []\n",
    "for i in range(100):\n",
    "    list_cong.append(b.next())\n",
    "fig, ax = plt.subplots(1, 1, figsize=(6, 4), dpi=80)\n",
    "ax.hist(list_cong, color = 'pink', edgecolor = 'black', bins = int(50/4))"
   ]
  },
  {
   "cell_type": "markdown",
   "metadata": {},
   "source": [
    "#### **Ejercicio 5:**\n",
    "Escoja una distribución de probabilidad continua.\n",
    "1. Utilice un método predefinido en Python para generar una secuencia de valores pseudo-aleatorios provenientes de dicha distribución\n",
    "2. Genere una secuencia considerando el algoritmo de la transformada inversa.\n",
    "3. Grafique en histogramas y compare las secuencias en (1) y (2) utilizando el test de k-s"
   ]
  },
  {
   "cell_type": "markdown",
   "metadata": {},
   "source": [
    "#### **Ejercicio 6:**\n",
    "Escoja una distribución de probabilidad discreta.\n",
    "1. Utilice un método predefinido en Python para generar una secuencia de valores pseudo-aleatorios provenientes de dicha distribución\n",
    "2. Genere una secuencia considerando el algoritmo de la transformada inversa.\n",
    "3. Grafique en histogramas y compare las secuencias en (1) y (2). ¿Qué test sería adecuado utilizar en este caso?"
   ]
  },
  {
   "cell_type": "markdown",
   "metadata": {},
   "source": [
    "**Referencias:**\n",
    "    \n",
    "- Generating Random Data in Python (Guide): https://realpython.com/python-random/\n",
    "\n",
    "- Generación de números pseudo-aleatorios: https://www.youtube.com/watch?v=C82JyCmtKWg"
   ]
  },
  {
   "cell_type": "code",
   "execution_count": null,
   "metadata": {},
   "outputs": [],
   "source": []
  }
 ],
 "metadata": {
  "kernelspec": {
   "display_name": "Python 3",
   "language": "python",
   "name": "python3"
  },
  "language_info": {
   "codemirror_mode": {
    "name": "ipython",
    "version": 3
   },
   "file_extension": ".py",
   "mimetype": "text/x-python",
   "name": "python",
   "nbconvert_exporter": "python",
   "pygments_lexer": "ipython3",
   "version": "3.8.5"
  }
 },
 "nbformat": 4,
 "nbformat_minor": 2
}
