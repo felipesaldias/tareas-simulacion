{
 "cells": [
  {
   "cell_type": "markdown",
   "metadata": {},
   "source": [
    "# Felipe Saldias"
   ]
  },
  {
   "cell_type": "code",
   "execution_count": null,
   "metadata": {},
   "outputs": [],
   "source": []
  },
  {
   "cell_type": "markdown",
   "metadata": {},
   "source": [
    "# Cadenas de Markov\n",
    "\n",
    "## ¿Qué hay de comer en el casino?\n",
    "\n",
    "Sea el casino del Campus Miraflores con sus apetitosos menues\n",
    "\n",
    "Debido al recorte de presupuesto el casino sólo puede preparar tres tipos de almuerzo\n",
    "\n",
    "1. (S1) Tallarines con salsa bolognesa\n",
    "1. (S2) Porotos con rienda (pero sin longaniza)\n",
    "1. (S3) Arvejas con huevo\n",
    "\n",
    "El postre siempre es jalea (sólo cambia el color)\n",
    "\n",
    "Para que no se note tanto que son solo tres almuerzos el casino decide el almuerzo de cada día siguiendo una regla probabilística en base al menú del día anterior\n",
    "\n",
    "Las reglas del casino son las siguientes\n",
    "\n",
    "1. Si hoy hay tallarines la probabilidad de que mañana hayan (a) tallarines es 0.2, (b) porotos es 0.2 y (c) arvejas es 0.6\n",
    "1. Si hoy hay porotos la probabilidad de que mañana hayan (a) tallarines es 0.6,  y (b) porotos es 0.4\n",
    "1. Si hoy hay arvejas mañana habrán porotos\n",
    "\n",
    "Asumiendo que estas reglas son ciertas y que hoy es Martes y que el menú es tallarines prediga \n",
    "1. El almuerzo más probable para mañana \n",
    "1. El almuerzo más probable para el Jueves\n",
    "1. El almuerzo más probable para el Viernes\n",
    "\n",
    "De forma analítica usando la matriz de transición y mediante una simulación de Monte Carlo\n",
    "\n",
    "- Repita para el caso en que hoy hayan porotos\n",
    "- ¿Cuál es la probabilidad de cada almuerzo a un plazo muy largo?"
   ]
  },
  {
   "cell_type": "markdown",
   "metadata": {},
   "source": []
  },
  {
   "cell_type": "code",
   "execution_count": 37,
   "metadata": {},
   "outputs": [],
   "source": [
    "import numpy as np\n",
    "import scipy.stats as stats"
   ]
  },
  {
   "cell_type": "code",
   "execution_count": 295,
   "metadata": {},
   "outputs": [],
   "source": [
    "matrix=np.array([[0.2, 0.2, 0.6],\n",
    "                [0.6, 0.4, 0],\n",
    "                [0, 1, 0]])\n",
    "\n",
    "meals_map = {\n",
    "    0: \"tallarines\",\n",
    "    1: \"porotos\",\n",
    "    2: \"arvejas\"\n",
    "}\n",
    "\n",
    "def probability_after_days(initial_state, n_days):\n",
    "    return np.dot(initial_state, np.linalg.matrix_power(matrix, n_days))\n",
    "\n",
    "def get_key(search_value, dictionary=meals_map):\n",
    "    return {k for k, v in dictionary.items() if v == search_value}\n",
    "\n",
    "def monte_carlo_markov_chain(initial_meal, n_chains, n_days):\n",
    "    states = np.zeros(shape=(n_chains, n_days), dtype= \"int\")\n",
    "    states[:, 0]=get_key(initial_meal).pop()\n",
    "    \n",
    "    for i in range(n_chains):\n",
    "        for j in range(1, n_days):\n",
    "            states[i,j] = np.argmax(stats.multinomial.rvs(n=1, p=matrix[states[i,j-1], :], size=1))\n",
    "    return states\n",
    "\n"
   ]
  },
  {
   "cell_type": "code",
   "execution_count": 20,
   "metadata": {},
   "outputs": [],
   "source": [
    "## 1"
   ]
  },
  {
   "cell_type": "code",
   "execution_count": 19,
   "metadata": {},
   "outputs": [
    {
     "data": {
      "text/plain": [
       "'arvejas'"
      ]
     },
     "metadata": {},
     "output_type": "display_data"
    },
    {
     "data": {
      "text/plain": [
       "'porotos'"
      ]
     },
     "metadata": {},
     "output_type": "display_data"
    },
    {
     "data": {
      "text/plain": [
       "'tallarines'"
      ]
     },
     "metadata": {},
     "output_type": "display_data"
    }
   ],
   "source": [
    "display(meals_map[np.argmax(probability_after_days([1, 0, 0], 1))],\n",
    "        meals_map[np.argmax(probability_after_days([1, 0, 0], 2))],\n",
    "        meals_map[np.argmax(probability_after_days([1, 0, 0], 3))])\n"
   ]
  },
  {
   "cell_type": "code",
   "execution_count": null,
   "metadata": {},
   "outputs": [],
   "source": [
    "## 2 "
   ]
  },
  {
   "cell_type": "code",
   "execution_count": 296,
   "metadata": {},
   "outputs": [
    {
     "data": {
      "text/plain": [
       "'arvejas'"
      ]
     },
     "metadata": {},
     "output_type": "display_data"
    },
    {
     "data": {
      "text/plain": [
       "'porotos'"
      ]
     },
     "metadata": {},
     "output_type": "display_data"
    },
    {
     "data": {
      "text/plain": [
       "'tallarines'"
      ]
     },
     "metadata": {},
     "output_type": "display_data"
    }
   ],
   "source": [
    "MC = monte_carlo_markov_chain(\"tallarines\", 100, 4)\n",
    "display(meals_map[np.bincount(MC[:,1]).argmax()],\n",
    "       meals_map[np.bincount(MC[:,2]).argmax()],\n",
    "       meals_map[np.bincount(MC[:,3]).argmax()])\n",
    "        "
   ]
  },
  {
   "cell_type": "code",
   "execution_count": null,
   "metadata": {},
   "outputs": [],
   "source": [
    "#3"
   ]
  },
  {
   "cell_type": "code",
   "execution_count": 304,
   "metadata": {},
   "outputs": [
    {
     "data": {
      "text/plain": [
       "'tallarines'"
      ]
     },
     "metadata": {},
     "output_type": "display_data"
    },
    {
     "data": {
      "text/plain": [
       "'tallarines'"
      ]
     },
     "metadata": {},
     "output_type": "display_data"
    },
    {
     "data": {
      "text/plain": [
       "'porotos'"
      ]
     },
     "metadata": {},
     "output_type": "display_data"
    }
   ],
   "source": [
    "display(meals_map[np.argmax(probability_after_days([0, 1, 0], 1))],\n",
    "        meals_map[np.argmax(probability_after_days([0, 1, 0], 2))],\n",
    "        meals_map[np.argmax(probability_after_days([0, 1, 0], 3))])"
   ]
  },
  {
   "cell_type": "code",
   "execution_count": null,
   "metadata": {},
   "outputs": [],
   "source": [
    "#4"
   ]
  },
  {
   "cell_type": "code",
   "execution_count": 309,
   "metadata": {
    "scrolled": true
   },
   "outputs": [
    {
     "data": {
      "text/plain": [
       "'tallarines'"
      ]
     },
     "metadata": {},
     "output_type": "display_data"
    },
    {
     "data": {
      "text/plain": [
       "'tallarines'"
      ]
     },
     "metadata": {},
     "output_type": "display_data"
    },
    {
     "data": {
      "text/plain": [
       "'porotos'"
      ]
     },
     "metadata": {},
     "output_type": "display_data"
    }
   ],
   "source": [
    "MC = monte_carlo_markov_chain(\"porotos\", 100, 4)\n",
    "display(meals_map[np.bincount(MC[:,1]).argmax()],\n",
    "       meals_map[np.bincount(MC[:,2]).argmax()],\n",
    "       meals_map[np.bincount(MC[:,3]).argmax()])\n",
    "        "
   ]
  },
  {
   "cell_type": "markdown",
   "metadata": {},
   "source": [
    "#### parentesis: notese que la implementacion por monte carlo no es determinista en sus resultados, puede entregar otros valores, obviamente yo los corri para que se vieran bonito arriba"
   ]
  },
  {
   "cell_type": "code",
   "execution_count": 311,
   "metadata": {},
   "outputs": [
    {
     "data": {
      "text/plain": [
       "'tallarines'"
      ]
     },
     "metadata": {},
     "output_type": "display_data"
    },
    {
     "data": {
      "text/plain": [
       "'arvejas'"
      ]
     },
     "metadata": {},
     "output_type": "display_data"
    },
    {
     "data": {
      "text/plain": [
       "'porotos'"
      ]
     },
     "metadata": {},
     "output_type": "display_data"
    }
   ],
   "source": [
    "MC = monte_carlo_markov_chain(\"porotos\", 100, 4)\n",
    "display(meals_map[np.bincount(MC[:,1]).argmax()],\n",
    "       meals_map[np.bincount(MC[:,2]).argmax()],\n",
    "       meals_map[np.bincount(MC[:,3]).argmax()])\n",
    "        "
   ]
  },
  {
   "cell_type": "code",
   "execution_count": 316,
   "metadata": {},
   "outputs": [
    {
     "data": {
      "text/plain": [
       "array([[0.34090909, 0.45454545, 0.20454545],\n",
       "       [0.34090909, 0.45454545, 0.20454545],\n",
       "       [0.34090909, 0.45454545, 0.20454545]])"
      ]
     },
     "execution_count": 316,
     "metadata": {},
     "output_type": "execute_result"
    }
   ],
   "source": [
    "#5\n",
    "\n",
    "np.linalg.matrix_power(matrix, 100000)"
   ]
  },
  {
   "cell_type": "code",
   "execution_count": null,
   "metadata": {},
   "outputs": [],
   "source": []
  }
 ],
 "metadata": {
  "kernelspec": {
   "display_name": "Python 3",
   "language": "python",
   "name": "python3"
  },
  "language_info": {
   "codemirror_mode": {
    "name": "ipython",
    "version": 3
   },
   "file_extension": ".py",
   "mimetype": "text/x-python",
   "name": "python",
   "nbconvert_exporter": "python",
   "pygments_lexer": "ipython3",
   "version": "3.8.5"
  },
  "toc": {
   "base_numbering": 1,
   "nav_menu": {},
   "number_sections": true,
   "sideBar": true,
   "skip_h1_title": false,
   "title_cell": "Table of Contents",
   "title_sidebar": "Contents",
   "toc_cell": false,
   "toc_position": {},
   "toc_section_display": true,
   "toc_window_display": false
  }
 },
 "nbformat": 4,
 "nbformat_minor": 4
}
