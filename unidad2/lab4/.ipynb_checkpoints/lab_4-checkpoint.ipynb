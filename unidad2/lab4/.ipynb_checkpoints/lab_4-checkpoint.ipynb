{
 "cells": [
  {
   "cell_type": "code",
   "execution_count": null,
   "metadata": {},
   "outputs": [],
   "source": [
    "Daniela Fabrega\n",
    "Felipe Saldias"
   ]
  },
  {
   "cell_type": "markdown",
   "metadata": {},
   "source": [
    "# Algoritmo Metropolis Hastings\n",
    "\n",
    "## Problema de la mochila\n",
    "\n",
    "\n",
    "Dado un conjunto de $m$ elementos cada uno descrito por su masa $w_j$ y su valor $v_j$ y una mochila cuyo límite de capacidad es $C$. Asumiendo que el volumen y la forma de los objetos no importan, encuentre el subconjunto de objetos de mayor valor que puede ser llevado en la mochila. Este es un problema de optimización combinatorial NP completo\n",
    "\n",
    "Podemos definir la variable indicadora\n",
    "\n",
    "$$\n",
    "x = (z_1, z_2, \\ldots, z_m)\n",
    "$$\n",
    "\n",
    "donde cada $z_i \\in \\{0, 1\\}$ es igual a 1 si el elemento $i$ está en la mochila y 0 si no lo está\n",
    "\n",
    "Se define entonces un espacio de posibilidades\n",
    "\n",
    "$$\n",
    "\\Omega = \\left \\{x \\in {0, 1}^m : \\sum_{j=1}^m w_j z_j \\leq C \\right \\}\n",
    "$$\n",
    "\n",
    "De donde queremos encontrar aquella que maximiza la utilidad\n",
    "\n",
    "$$\n",
    "U(x) = \\sum_{j=1}^m v_j z_j\n",
    "$$\n",
    "\n",
    "## Solución con Monte Carlo\n",
    "\n",
    "Para resolverlo con Monte Carlo podríamos\n",
    "\n",
    "- Dado $x_t$\n",
    "- Escoger $j \\in [1, ..., m]$ al azar de manera uniforme\n",
    "- Crear $y=(z_1, z_2, ..., 1-z_j,..., z_m)$, si es la mejor solución hasta ahora, guardarla\n",
    "- Si $y$ es factible entonces $x_{t+1} = y$ de lo contrario $x_{t+1} = x_t$\n",
    "\n",
    "Pero esto podría tardar muchisimo para $m$ grande\n",
    "\n",
    "## Actividad: Simulated Annealing\n",
    "\n",
    "Resuelva este problema usando el algoritmo de Simulated Annealing, el cual es una versión del algoritmo de Metropolis donde la distribución de interés se formula a partir de la función de utilidad como\n",
    "\n",
    "$$\n",
    "p(x) = \\frac{1}{Z} \\exp \\left(\\frac{U(x)}{T} \\right) \n",
    "$$\n",
    "\n",
    "donde $T$ es la temperatura y $Z = \\sum_{x\\in \\Omega}  \\exp \\left(\\frac{U(x)}{T} \\right)$ es la evidencia que no depende de $x$\n",
    "\n",
    "- Escriba la taza de aceptación $\\alpha$ y el valor de $r$\n",
    "- Implemente la solución de Monte Carlo \n",
    "- Implemente la solución de Simulated annealing modificando el criterio de aceptación ingenuo por de Metropolis\n",
    "- Para el conjunto de datos $X_1$\n",
    "    - Compare SA con el método de montecarlo clásico ¿Cuánto demora cada uno en llegar a la solución óptima?\n",
    "    - Explore la influencia del parámetro $T$. Muestre y compare resultados con un $T$ grande, adecuado y pequeño decididos por usted. Pruebe con un valor de $T$ adaptivo dado por\n",
    "    $$\n",
    "    T_i = \\frac{1}{\\log(i)}\n",
    "    $$\n",
    "- Para el conjunto de datos $X_2$. Encuentre un valor de $T$ adecuado y muestre la mejor solución obtenida usando SA\n",
    "\n",
    "Referencias:\n",
    "\n",
    "- Láminas 17 a 21: https://cindy.informatik.uni-bremen.de/cosy/teaching/CM_2011/fitting/mcmc.pdf\n",
    "- Láminas 4 a 8: http://sites.science.oregonstate.edu/~kovchegy/web/papers/MCMC.pdf\n",
    "\n"
   ]
  },
  {
   "cell_type": "code",
   "execution_count": 2,
   "metadata": {},
   "outputs": [],
   "source": [
    "X1 = {\"m\": 10, \"C\": 2586,\n",
    "      \"v\": [81, 141, 211, 321, 408, 549, 596, 750, 953, 1173], \n",
    "      \"w\": [36, 78, 110, 214, 259, 356, 377, 487, 689, 862]\n",
    "     }\n",
    "\n",
    "X2 = {\"m\": 25, \"C\": 10356,\n",
    "      \"v\": [39, 93, 159, 240, 274, 493, 588, 752, 1025, 1324, 1588, 1826, 1936, 2045, \n",
    "            2287, 2486, 2818, 2850, 3072, 3219, 3499, 3596, 3620, 4067, 4432], \n",
    "      \"w\": [5, 42, 84, 126, 133, 309, 368, 502, 761, 1020, 1283, 1517, 1584, 1656, \n",
    "            1865, 2031, 2320, 2349, 2553, 2667, 2929, 3024, 3047, 3452, 3790]\n",
    "     }"
   ]
  },
  {
   "cell_type": "code",
   "execution_count": 51,
   "metadata": {},
   "outputs": [],
   "source": [
    "def calculate_weight_value(x_set):\n",
    "    x_set_weight_sum = 0\n",
    "    x_set_value_sum = 0\n",
    "    for x_prop in x_set:\n",
    "        x_set_weight_sum += X1[\"w\"][x_prop]\n",
    "        x_set_value_sum += X1[\"v\"][x_prop]    \n",
    "    return x_set_weight_sum, x_set_value_sum\n",
    "    "
   ]
  },
  {
   "cell_type": "code",
   "execution_count": 300,
   "metadata": {},
   "outputs": [],
   "source": [
    "import random \n",
    "\n",
    "\n",
    "weight_limit = X1[\"C\"]\n",
    "def montecarlo(iterations):\n",
    "    \n",
    "    best_for_epoch=[]\n",
    "    the_best_one = {\"sum\": 0,\n",
    "               \"array\":[0,0,0]}\n",
    "    \n",
    "    x_i = []\n",
    "\n",
    "    for i in range(iterations):\n",
    "        element = random.randint(0,9)\n",
    "        x_propuesta=x_i.copy()\n",
    "\n",
    "        if element not in x_propuesta:\n",
    "            x_propuesta.append(element)\n",
    "        else:\n",
    "            x_propuesta.remove(element)   \n",
    "\n",
    "        x_propuesta_weight_sum, x_propuesta_value_sum = calculate_weight_value(x_propuesta)\n",
    "\n",
    "        if x_propuesta_weight_sum <= weight_limit:\n",
    "            x_i = x_propuesta\n",
    "\n",
    "            if(x_propuesta_value_sum > the_best_one[\"sum\"]):\n",
    "                the_best_one[\"array\"] = x_propuesta.copy()\n",
    "                the_best_one[\"sum\"] = x_propuesta_value_sum\n",
    "        best_for_epoch.append(the_best_one[\"sum\"])\n",
    "    print(\"El mejor resultado\", the_best_one)\n",
    "    return(the_best_one, best_for_epoch)"
   ]
  },
  {
   "cell_type": "markdown",
   "metadata": {},
   "source": [
    "## annealing"
   ]
  },
  {
   "cell_type": "code",
   "execution_count": 301,
   "metadata": {
    "scrolled": true
   },
   "outputs": [],
   "source": [
    "import random \n",
    "import math\n",
    "import numpy as np\n",
    "\n",
    "def annealing(iterations, T=1):\n",
    "\n",
    "    best_for_epoch=[]\n",
    "\n",
    "    the_best_one = {\"sum\": 0,\n",
    "                   \"array\":[0,0,0]}\n",
    "\n",
    "    weight_limit = X1[\"C\"]\n",
    "    x_i = []\n",
    "\n",
    "    for i in range(iterations):\n",
    "        element = random.randint(0,9)\n",
    "        x_propuesta=x_i.copy()\n",
    "\n",
    "        if element not in x_propuesta:\n",
    "            x_propuesta.append(element)\n",
    "        else:\n",
    "            x_propuesta.remove(element)   \n",
    "\n",
    "        x_propuesta_weight_sum, x_propuesta_value_sum = calculate_weight_value(x_propuesta)\n",
    "        x_current_weight_sum, x_current_value_sum = calculate_weight_value(x_i)\n",
    "\n",
    "        if x_propuesta_weight_sum <= weight_limit:\n",
    "            r= np.exp(x_propuesta_value_sum/T)/np.exp(x_current_value_sum/T)\n",
    "            alpha = min(1,r)\n",
    "            if alpha > random.uniform(0, 1):\n",
    "                x_i = x_propuesta\n",
    "\n",
    "            if(x_propuesta_value_sum > the_best_one[\"sum\"]):\n",
    "                the_best_one[\"array\"] = x_propuesta.copy()\n",
    "                the_best_one[\"sum\"] = x_propuesta_value_sum\n",
    "                \n",
    "        best_for_epoch.append([i,the_best_one[\"sum\"]])\n",
    "    print(\"El mejor resultado\", the_best_one)\n",
    "    return(the_best_one, best_for_epoch)"
   ]
  },
  {
   "cell_type": "code",
   "execution_count": 302,
   "metadata": {},
   "outputs": [
    {
     "name": "stdout",
     "output_type": "stream",
     "text": [
      "El mejor resultado {'sum': 1583, 'array': [0, 8, 1, 4]}\n"
     ]
    },
    {
     "data": {
      "text/plain": [
       "({'sum': 1583, 'array': [0, 8, 1, 4]}, [81, 1034, 1175, 1583, 1583, 1583])"
      ]
     },
     "execution_count": 302,
     "metadata": {},
     "output_type": "execute_result"
    }
   ],
   "source": [
    "montecarlo(6)"
   ]
  },
  {
   "cell_type": "code",
   "execution_count": 296,
   "metadata": {},
   "outputs": [
    {
     "name": "stdout",
     "output_type": "stream",
     "text": [
      "El mejor resultado {'sum': 1878, 'array': [2, 3, 7, 6]}\n"
     ]
    },
    {
     "name": "stderr",
     "output_type": "stream",
     "text": [
      "<ipython-input-214-716d0ddca15f>:28: RuntimeWarning: overflow encountered in exp\n",
      "  r= np.exp(x_propuesta_value_sum/T)/np.exp(x_current_value_sum/T)\n",
      "<ipython-input-214-716d0ddca15f>:28: RuntimeWarning: invalid value encountered in double_scalars\n",
      "  r= np.exp(x_propuesta_value_sum/T)/np.exp(x_current_value_sum/T)\n"
     ]
    },
    {
     "data": {
      "text/plain": [
       "{'sum': 1878, 'array': [2, 3, 7, 6]}"
      ]
     },
     "execution_count": 296,
     "metadata": {},
     "output_type": "execute_result"
    }
   ],
   "source": [
    "annealing(6)\n"
   ]
  },
  {
   "cell_type": "code",
   "execution_count": 123,
   "metadata": {},
   "outputs": [
    {
     "ename": "OverflowError",
     "evalue": "math range error",
     "output_type": "error",
     "traceback": [
      "\u001b[1;31m---------------------------------------------------------------------------\u001b[0m",
      "\u001b[1;31mOverflowError\u001b[0m                             Traceback (most recent call last)",
      "\u001b[1;32m<ipython-input-123-0c2104eb5f46>\u001b[0m in \u001b[0;36m<module>\u001b[1;34m\u001b[0m\n\u001b[1;32m----> 1\u001b[1;33m \u001b[0mr\u001b[0m\u001b[1;33m=\u001b[0m \u001b[0mmath\u001b[0m\u001b[1;33m.\u001b[0m\u001b[0mexp\u001b[0m\u001b[1;33m(\u001b[0m\u001b[1;36m750\u001b[0m\u001b[1;33m/\u001b[0m\u001b[0mT\u001b[0m\u001b[1;33m)\u001b[0m\u001b[1;33m/\u001b[0m\u001b[0mmath\u001b[0m\u001b[1;33m.\u001b[0m\u001b[0mexp\u001b[0m\u001b[1;33m(\u001b[0m\u001b[1;36m0\u001b[0m\u001b[1;33m/\u001b[0m\u001b[0mT\u001b[0m\u001b[1;33m)\u001b[0m\u001b[1;33m\u001b[0m\u001b[1;33m\u001b[0m\u001b[0m\n\u001b[0m",
      "\u001b[1;31mOverflowError\u001b[0m: math range error"
     ]
    }
   ],
   "source": [
    "r= math.exp(750/T)/math.exp(0/T)"
   ]
  },
  {
   "cell_type": "code",
   "execution_count": 130,
   "metadata": {},
   "outputs": [],
   "source": [
    "import numpy"
   ]
  },
  {
   "cell_type": "code",
   "execution_count": 132,
   "metadata": {},
   "outputs": [
    {
     "data": {
      "text/plain": [
       "7.251547794405553e+162"
      ]
     },
     "execution_count": 132,
     "metadata": {},
     "output_type": "execute_result"
    }
   ],
   "source": [
    "numpy.exp(750/2)"
   ]
  },
  {
   "cell_type": "code",
   "execution_count": 127,
   "metadata": {},
   "outputs": [],
   "source": [
    "T=100"
   ]
  },
  {
   "cell_type": "code",
   "execution_count": 128,
   "metadata": {},
   "outputs": [
    {
     "data": {
      "text/plain": [
       "1808.0424144560632"
      ]
     },
     "execution_count": 128,
     "metadata": {},
     "output_type": "execute_result"
    }
   ],
   "source": [
    "math.exp(750/T)"
   ]
  },
  {
   "cell_type": "code",
   "execution_count": 124,
   "metadata": {},
   "outputs": [
    {
     "data": {
      "text/plain": [
       "1.0"
      ]
     },
     "execution_count": 124,
     "metadata": {},
     "output_type": "execute_result"
    }
   ],
   "source": [
    "math.exp(0/T)"
   ]
  },
  {
   "cell_type": "code",
   "execution_count": 119,
   "metadata": {},
   "outputs": [],
   "source": [
    "x,y=calculate_weight_value([])"
   ]
  },
  {
   "cell_type": "code",
   "execution_count": 129,
   "metadata": {},
   "outputs": [
    {
     "data": {
      "text/plain": [
       "0.01831563888873418"
      ]
     },
     "execution_count": 129,
     "metadata": {},
     "output_type": "execute_result"
    }
   ],
   "source": []
  },
  {
   "cell_type": "code",
   "execution_count": 4,
   "metadata": {},
   "outputs": [
    {
     "data": {
      "text/plain": [
       "[6, 0, 5, 8]"
      ]
     },
     "execution_count": 4,
     "metadata": {},
     "output_type": "execute_result"
    }
   ],
   "source": [
    "partial_index_array"
   ]
  },
  {
   "cell_type": "code",
   "execution_count": 13,
   "metadata": {},
   "outputs": [],
   "source": [
    "L = X1[\"w\"]"
   ]
  },
  {
   "cell_type": "code",
   "execution_count": 15,
   "metadata": {},
   "outputs": [
    {
     "ename": "TypeError",
     "evalue": "list indices must be integers or slices, not list",
     "output_type": "error",
     "traceback": [
      "\u001b[1;31m---------------------------------------------------------------------------\u001b[0m",
      "\u001b[1;31mTypeError\u001b[0m                                 Traceback (most recent call last)",
      "\u001b[1;32m<ipython-input-15-edde3eb3802e>\u001b[0m in \u001b[0;36m<module>\u001b[1;34m\u001b[0m\n\u001b[1;32m----> 1\u001b[1;33m \u001b[0mL\u001b[0m\u001b[1;33m[\u001b[0m\u001b[0mpartial_index_array\u001b[0m\u001b[1;33m]\u001b[0m\u001b[1;33m\u001b[0m\u001b[1;33m\u001b[0m\u001b[0m\n\u001b[0m",
      "\u001b[1;31mTypeError\u001b[0m: list indices must be integers or slices, not list"
     ]
    }
   ],
   "source": [
    "L[partial_index_array]"
   ]
  }
 ],
 "metadata": {
  "kernelspec": {
   "display_name": "Python 3",
   "language": "python",
   "name": "python3"
  },
  "language_info": {
   "codemirror_mode": {
    "name": "ipython",
    "version": 3
   },
   "file_extension": ".py",
   "mimetype": "text/x-python",
   "name": "python",
   "nbconvert_exporter": "python",
   "pygments_lexer": "ipython3",
   "version": "3.8.5"
  },
  "toc": {
   "base_numbering": 1,
   "nav_menu": {},
   "number_sections": true,
   "sideBar": true,
   "skip_h1_title": false,
   "title_cell": "Table of Contents",
   "title_sidebar": "Contents",
   "toc_cell": false,
   "toc_position": {},
   "toc_section_display": true,
   "toc_window_display": false
  }
 },
 "nbformat": 4,
 "nbformat_minor": 4
}
