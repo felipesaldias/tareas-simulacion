{
 "cells": [
  {
   "cell_type": "markdown",
   "metadata": {},
   "source": [
    "# SIMULACIÓN | PROYECTO UNIDAD 1\n",
    "\n",
    "\n"
   ]
  },
  {
   "cell_type": "markdown",
   "metadata": {},
   "source": [
    "## INSTRUCCIONES\n",
    "\n",
    "- El objetivo del proyecto es poner en práctica los contenidos aprendidos en la primera unidad de Probabilidades, con el uso de un set de datos real extraidos de un medio libre. En algunos casos deberá investigar ciertos contenidos para apoyar sus conclusiones.  \n",
    "\n",
    "\n",
    "- Se presentan las actividades a desarrollar, cada una de ella contiene un set de instrucciones, preguntas y su puntaje asociado. Las preguntas deben ser respondidas en celdas de texto (no se considera respuesta si está en un comentario entre las líneas de código)\n",
    "\n",
    "\n",
    "- Al finalizar presente las conclusiones de su trabajo. \n",
    "\n",
    "\n",
    "- Debe subir a siveduc en la tarea Proyecto1, su notebook y el archivo de datos utilizado.\n",
    "\n",
    "\n",
    "- El título del notebook debe ser: proyecto1_Apellido1_Apellido2_Apellido3\n",
    "\n",
    "\n",
    "- Fecha límite de entrega: 9 de noviembre 23:59 horas.  \n",
    "\n",
    "\n",
    "- Este trabajo pondera un 25% del total del curso "
   ]
  },
  {
   "cell_type": "markdown",
   "metadata": {},
   "source": [
    "**Integrantes:** "
   ]
  },
  {
   "cell_type": "code",
   "execution_count": 1,
   "metadata": {},
   "outputs": [],
   "source": [
    "# Pandas and numpy for data manipulation\n",
    "import pandas as pd\n",
    "import numpy as np\n",
    "\n",
    "# Matplotlib and seaborn for plotting\n",
    "import matplotlib.pyplot as plt\n",
    "import matplotlib\n",
    "%matplotlib inline\n",
    "\n",
    "matplotlib.rcParams['font.size'] = 10\n",
    "matplotlib.rcParams['figure.dpi'] = 100\n",
    "\n",
    "import seaborn as sns\n",
    "\n",
    "from IPython.core.pylabtools import figsize"
   ]
  },
  {
   "cell_type": "code",
   "execution_count": 2,
   "metadata": {},
   "outputs": [],
   "source": [
    "import random"
   ]
  },
  {
   "cell_type": "markdown",
   "metadata": {},
   "source": [
    "## Parte I : Propiedades de las Probabilidades\n",
    "\n"
   ]
  },
  {
   "cell_type": "markdown",
   "metadata": {},
   "source": [
    "A continuación se presenta la simulación de una población, representada por el dinero que dispone cada persona y sus transacciones económicas. \n",
    "\n",
    "1. (0,8 pts) En este contexto, defina 3 eventos de interés A, B y C, y por medio de la simulación calcule: \n",
    "    \n",
    "    (a) ${P(A)}$, ${P(B)}$, ${P(C)}$ \n",
    "    \n",
    "    (b) ${P(A \\cup B)}$ \n",
    "\n",
    "    (c) ${P(A \\cap C)}$\n",
    "\n",
    "Ejemplos de eventos de interés (defina sus propios eventos):\n",
    "- La mediana de la población es mayor o igual que $x$ pesos.\n",
    "- El percentil 10% es mayor o igual que $y$ pesos\n",
    "- El coeficiente de gini de la población es menor que $0.3$\n",
    "\n",
    "\n",
    "\n",
    "2. (0,6 pts) Defina una probabilidad condicional no independiente y calcúlela por medio de la simulación considerando el teorema de Bayes. Escriba la formulación del teorema aplicado a su caso (Prob. Cond, a priori, verosimilitud y evidencia). \n",
    "\n",
    "\n",
    "\n",
    "#### Referencia:\n",
    "https://nbviewer.jupyter.org/url/norvig.com/ipython/Economics.ipynb"
   ]
  },
  {
   "cell_type": "markdown",
   "metadata": {},
   "source": [
    "**gini**: Definición de la métrica de equidad de gini \n",
    "\n",
    "**transaccion**: accion de intercambio de dinero, puede ser justa o injusta\n",
    "\n",
    "**interaccion**: eleccion de los actores que realizan la transacción\n",
    "\n",
    "**simula**: funcion de simulacion, dinerop: lista que representa la cantidad de dinero actual que tiene cada persona, T: cantidad de iteraciones "
   ]
  },
  {
   "cell_type": "code",
   "execution_count": 3,
   "metadata": {},
   "outputs": [],
   "source": [
    "def gini(y):\n",
    "    \"Calcula el coeficiente de Gini: una medida de la equidad/inequidad en la\"\n",
    "    \"población y (representada por una lista que contabiliza el dinero actual de cada persona.\"\n",
    "    y = sorted(y)\n",
    "    n = len(y)\n",
    "    numer = 2 * sum((i+1) * y[i] for i in range(n))\n",
    "    denom = n * sum(y)\n",
    "    return (numer / denom) - (n + 1) / n\n",
    "\n",
    "def transaccion(A, B):\n",
    "    \"Reune el dinero de A y B en un pozo y luego lo distribuye aleatoriamente entre los dos actores.\"\n",
    "    pozo = A + B\n",
    "    parte1 = random.uniform(0, pozo)\n",
    "    return parte1, pozo - parte1\n",
    "\n",
    "def transaccion_injusta(A, B): return random.choice(([A + B, 0], [0, A + B]))\n",
    "\n",
    "def interaccion(N): return random.sample(range(N), 2)\n",
    "\n",
    "def percent(pct, items):\n",
    "    \"The item that is pct percent through the sorted list of items.\"\n",
    "    return items[min(len(items)-1, len(items) * pct // 100)]\n",
    "\n"
   ]
  },
  {
   "cell_type": "markdown",
   "metadata": {},
   "source": [
    "**SIMULACIÓN: modifíquela para realizar sus cálculos **"
   ]
  },
  {
   "cell_type": "code",
   "execution_count": 4,
   "metadata": {},
   "outputs": [],
   "source": [
    "\n",
    "def simula(dinerop, T):\n",
    "    \"Ejecuta simulacion de dinerop para T transacciones; devuelve dinerop en cada paso.\" \n",
    "    dinerop = dinerop.copy()\n",
    "    yield dinerop\n",
    "    for t in range(1, T + 1):\n",
    "        i, j = interaccion(len(dinerop))\n",
    "        dinerop[i], dinerop[j] = transaccion(dinerop[i], dinerop[j]) \n",
    "        yield dinerop"
   ]
  },
  {
   "cell_type": "markdown",
   "metadata": {},
   "source": [
    "*** Ejemplo de la simulación con una poblacion, donde los cuatro actores inician con 100$ y 8 iteraciones ***"
   ]
  },
  {
   "cell_type": "code",
   "execution_count": 5,
   "metadata": {},
   "outputs": [
    {
     "name": "stdout",
     "output_type": "stream",
     "text": [
      "[100, 100, 100, 100]\n",
      "[100, 25.27583242833157, 174.72416757166843, 100]\n",
      "[21.33508268779417, 25.27583242833157, 174.72416757166843, 178.66491731220583]\n",
      "[21.33508268779417, 67.95107515129999, 174.72416757166843, 135.9896745892374]\n",
      "[21.33508268779417, 67.95107515129999, 272.70539669393173, 38.00844546697414]\n",
      "[6.953844227750966, 67.95107515129999, 272.70539669393173, 52.389683927017344]\n",
      "[6.953844227750966, 86.90401412214831, 272.70539669393173, 33.43674495616902]\n",
      "[6.953844227750966, 86.90401412214831, 228.22596867785424, 77.91617297224653]\n",
      "[6.953844227750966, 102.27023410639356, 228.22596867785424, 62.54995298800127]\n"
     ]
    }
   ],
   "source": [
    "#Ejemplo simple de simular una población de 4 actores, con $100 cada uno inicialmente y 8 iteraciones:\n",
    "for pop in simula([100] * 4, 8):\n",
    "    print(pop)"
   ]
  },
  {
   "cell_type": "markdown",
   "metadata": {},
   "source": [
    "*** Puede tomar como ejemplo los siguientes gráficos y estadísticas presentadas *** "
   ]
  },
  {
   "cell_type": "code",
   "execution_count": 6,
   "metadata": {},
   "outputs": [],
   "source": [
    "import statistics\n",
    "\n",
    "def percent(pct, items):\n",
    "    \"Devuelve el item que corresponde al porcentaje pct (acumulado) en la lista ordenada de items.\"\n",
    "    return items[min(len(items)-1, len(items) * pct // 100)]\n",
    "\n",
    "def show(dinerop, k=40, percentiles=(1, 10, 50, 90, 99), **kwargs):\n",
    "    \"Ejecuta simulación en k*N pasos, imprimiendo estadísticos y desplegando un histograma. \"\n",
    "    N = len(dinerop)\n",
    "    inicio = list(dinerop)\n",
    "    resultado = [(t, sorted(pop)) # Ordena resultados para poder calcular percentiles\n",
    "               for (t, pop) in enumerate(simula(dinerop, k * N, **kwargs))\n",
    "               if t % (N / 10) == 0]\n",
    "    times = [t for (t, pop) in resultado]\n",
    "    # Printout:\n",
    "    print('   t    Gini stdev' + (' {:3d}%' * len(percentiles)).format(*percentiles))\n",
    "    print('------- ---- -----' + ' ----' * len(percentiles))\n",
    "    fmt = '{:7,d} {:.2f} {:5.1f}' + ' {:4.0f}' * len(percentiles)\n",
    "    for (t, pop) in resultado:\n",
    "        if t % (4 * N) == 0:\n",
    "            data = [percent(pct, pop) for pct in percentiles]\n",
    "            print(fmt.format(t, gini(pop), statistics.stdev(pop), *data))\n",
    "    # Plot:\n",
    "    plt.xlabel('riqueza'); plt.ylabel('tiempo'); plt.grid(True)\n",
    "    for pct in percentiles:\n",
    "        line = [percent(pct, pop) for (t, pop) in resultado]\n",
    "        plt.plot(line, times)\n",
    "    plt.show()\n",
    "    # Histogram:\n",
    "    R = (min(pop+inicio), max(pop+inicio))\n",
    "    plt.hist(inicio, label='inicio',range=R, alpha=0.5)\n",
    "    plt.hist(pop,label='final', range=R,alpha=0.5)\n",
    "    plt.legend(loc='upper right')\n",
    "    plt.show()           \n"
   ]
  },
  {
   "cell_type": "code",
   "execution_count": 52,
   "metadata": {
    "scrolled": true
   },
   "outputs": [
    {
     "name": "stdout",
     "output_type": "stream",
     "text": [
      "   t    Gini stdev   1%  10%  50%  90%  99%\n",
      "------- ---- ----- ---- ---- ---- ---- ----\n",
      "      0 0.11  20.0   54   74  100  126  146\n",
      " 20,000 0.48  93.7    1   11   73  227  422\n",
      " 40,000 0.50  98.7    1    9   71  233  456\n",
      " 60,000 0.50  99.1    1   11   69  234  452\n",
      " 80,000 0.50 100.6    1   10   69  230  478\n",
      "100,000 0.50 100.2    1   10   68  237  465\n",
      "120,000 0.50 100.6    1   10   69  231  464\n",
      "140,000 0.51 102.4    1   10   68  228  480\n",
      "160,000 0.50 100.3    1   10   69  233  448\n",
      "180,000 0.50 100.6    1   10   68  232  470\n",
      "200,000 0.50 101.3    1   11   68  231  462\n"
     ]
    },
    {
     "data": {
      "image/png": "[encoded data removed]",
      "text/plain": [
       "<Figure size 432x288 with 1 Axes>"
      ]
     },
     "metadata": {
      "needs_background": "light"
     },
     "output_type": "display_data"
    },
    {
     "data": {
      "image/png": "[encoded data removed]",
      "text/plain": [
       "<Figure size 432x288 with 1 Axes>"
      ]
     },
     "metadata": {
      "needs_background": "light"
     },
     "output_type": "display_data"
    }
   ],
   "source": [
    "N  = 5000 # Tamaño de la población\n",
    "MU = 100. # Dinero medio en la población\n",
    "\n",
    "dinerop = [random.gauss(mu=MU, sigma=MU/5) for actor in range(N)]\n",
    "\n",
    "show(dinerop)"
   ]
  },
  {
   "cell_type": "markdown",
   "metadata": {},
   "source": [
    "## Parte II: Distribuciones "
   ]
  },
  {
   "cell_type": "markdown",
   "metadata": {},
   "source": [
    "Busque un conjunto de datos disponible en un repositorio público, que contenga un conjunto de datos de una variable aleatoria. Utilice el set de datos para realizar las siguientes actividades:\n",
    "\n",
    "Ejemplo de repositorio: https://archive.ics.uci.edu/ml/datasets.php . \n",
    "\n",
    "0. Indique la fuente de sus datos. \n",
    "\n",
    "\n",
    "1. (0,6 pts) Descripcion de datos: tome un conjunto de datos en ${\\cal R}$ y descríbalo estadísticamente, grafique histograma y distribución de probabilidad empírica. Mencione alguna característica particular de su set de datos. \n",
    "\n",
    "2. (0,8 pts) Seleccione aleatoriamente una cantidad N de sus datos y calcule sus estadísticos muestrales (al menos 3), luego aumente la cantidad de datos seleccionado (N++), grafique los valores de los estadísticos muestrales en cada iteración ¿qué ocurre con los estadísticos muestrales a medida que aumenta N?. Investigue y responda en base a la ley de los grandes números.\n",
    "\n",
    "3. (0,8 pts) Divida su set de datos en distintos grupos (aleatoriamente) y calcule los estadísticos muestrales de cada grupo y grafique el histograma resultante. Por ejemplo: para el caso de la media, debe calcular la media para cada grupo y luego graficar el histograma del conjunto de medias. ¿los estadísticos muestrales cumplen el Teorema del Límite Central? Justifique su respuesta.\n",
    "\n",
    "4. (0,6 pts) Defina una hipótesis sobre la distribución que siguen sus datos, utilice el test Kolmogorov-Smirnov ¿Puede rechazar la hipótesis? (usando un 95% de confianza). Comente sus resultados.\n",
    "\n",
    "5. (0,8 pts) Calcule la incerteza de sus estadísticos muestrales utilizando bootstrap. Interprete sus resultados. \n"
   ]
  },
  {
   "cell_type": "markdown",
   "metadata": {},
   "source": [
    "### Referencias útiles para la parte II: \n",
    "\n",
    "\n",
    "\n",
    "[1] **Ley de los grandes números:**  https://nbviewer.jupyter.org/github/CamDavidsonPilon/Probabilistic-Programming-and-Bayesian-Methods-for-Hackers/blob/master/Chapter4_TheGreatestTheoremNeverTold/Ch4_LawOfLargeNumbers_PyMC3.ipynb\n",
    "\n",
    "\n",
    "[2] Ross, https://drive.google.com/file/d/1tenWSvfAU2336m-km4vRMorKmDIQRKme/view?usp=sharing"
   ]
  },
  {
   "cell_type": "markdown",
   "metadata": {},
   "source": [
    "## Parte III: Conclusiones\n",
    "\n",
    "\n",
    "1. (0,8 pts) Presente las conclusiones de su trabajo. \n",
    "\n",
    "2. (0,2 pts) Además reflexione respecto a qué significa que los datos sean **independientes e identicamente distribuidos** y por qué se debe cumplir esta condición en los grupos seleccionados aleatoriamente en las preguntas 2 y 3 de la parte II (puede reflexionar en torno a qué pasaría si no lo fueran) \n"
   ]
  },
  {
   "cell_type": "code",
   "execution_count": null,
   "metadata": {},
   "outputs": [],
   "source": []
  }
 ],
 "metadata": {
  "kernelspec": {
   "display_name": "Python 3",
   "language": "python",
   "name": "python3"
  },
  "language_info": {
   "codemirror_mode": {
    "name": "ipython",
    "version": 3
   },
   "file_extension": ".py",
   "mimetype": "text/x-python",
   "name": "python",
   "nbconvert_exporter": "python",
   "pygments_lexer": "ipython3",
   "version": "3.8.5"
  }
 },
 "nbformat": 4,
 "nbformat_minor": 2
}
