{
 "cells": [
  {
   "cell_type": "code",
   "execution_count": null,
   "metadata": {},
   "outputs": [],
   "source": [
    "NOMBRES: DANIELA FABREGA, FELIPE SALDIAS, NICOLAS OTAROLA"
   ]
  },
  {
   "cell_type": "markdown",
   "metadata": {},
   "source": [
    "# SIMULACIÓN | LABORATORIO 1\n"
   ]
  },
  {
   "cell_type": "markdown",
   "metadata": {},
   "source": [
    "### CONTENIDOS\n",
    "1. Ejemplo del lanzamiento de monedas\n",
    "2. Conceptos: Espacio muestral, evento, probabilidad\n",
    "3. Principios de probabilidad \n"
   ]
  },
  {
   "cell_type": "markdown",
   "metadata": {},
   "source": [
    "### ¿Cómo asignamos valores de probabilidad?\n",
    "\n",
    "- $\\textbf{Enfoque frecuentista relativo o de simulación:}$ Sea $n$ el número de experimentos, y $n(A)$ el número de veces que el evento $A$ ocurre en la realización de esos experimentos, entonces $P(A) = \\frac{n(A)}{n}$\n",
    "\n",
    "- $\\textbf{Enfoque frecuentista clásico:}$ Sea $n(A)$ el número elementos en el evento $A$, y $n(\\Omega)$ el número de elementos en el espacio muestral $\\Omega$, entonce $P(A) = \\frac{n(A)}{n(\\Omega)}$\n",
    "\n",
    "- $\\textbf{Enfoque Bayesiano:}$ Yo pienso que la probabilidad de que me gane un proyecto es $0.9$ (probabilidad a priori)."
   ]
  },
  {
   "cell_type": "code",
   "execution_count": 65,
   "metadata": {},
   "outputs": [],
   "source": [
    "import numpy as np\n",
    "import matplotlib.pyplot as plt\n",
    "import pandas as pd\n",
    "import seaborn as sns"
   ]
  },
  {
   "cell_type": "markdown",
   "metadata": {},
   "source": [
    "## Lanzamiento de monedas"
   ]
  },
  {
   "cell_type": "code",
   "execution_count": 412,
   "metadata": {},
   "outputs": [],
   "source": [
    "# Define algunos parámetros del contexto de trabajo\n",
    "sns.set_context(\"notebook\", \n",
    "                font_scale=1.5, \n",
    "                rc={\"lines.linewidth\": 2.5})\n",
    "sns.set_style('whitegrid')\n",
    "sns.set_palette('deep')\n",
    "# Crea dic variables de color que serán usadas en este contexto\n",
    "rojo= sns.xkcd_rgb['vermillion']\n",
    "azul= sns.xkcd_rgb['dark sky blue']\n"
   ]
  },
  {
   "cell_type": "code",
   "execution_count": 413,
   "metadata": {},
   "outputs": [],
   "source": [
    "#utilzaremos la distribución binomial para modelar el experimento del lanzamiento de una moneda n veces\n",
    "def factorial(n):\n",
    "    \"\"\"Calcula factorial de `n`\n",
    "    \"\"\"\n",
    "    vals = list(range(1, n + 1))\n",
    "    if len(vals) <= 0:\n",
    "        return 1\n",
    "\n",
    "    prod = 1\n",
    "    for val in vals:\n",
    "        prod *= val\n",
    "        \n",
    "    return prod\n",
    "    \n",
    "    \n",
    "def n_choose_k(n, k):\n",
    "    \"\"\"Calcula la combinatoria de n y k \n",
    "    \"\"\"\n",
    "    return factorial(n) / (factorial(k) * factorial(n - k))\n",
    "\n",
    "\n",
    "def binom_prob(n, k, p):\n",
    "    \"\"\"Retorna la probabilidad de que ocurran `k` caras in `n` lanzamientos de una moneda\n",
    "    \n",
    "    Argumentos:\n",
    "    \n",
    "    n - número de ensayos\n",
    "    k - número de ensayos en los que se obtiene cara\n",
    "    p - probabilidad de que el evento \"obtener cara\" ocurra\n",
    "    \n",
    "    \"\"\"\n",
    "    return n_choose_k(n, k) * p**k * (1 - p)**(n - k)\n",
    "\n",
    "def lanzaMoneda(N_caras, N_exper): \n",
    "    # Calcula la probabilidad de cada posible salida (N_caras) \n",
    "    # del experimento de lanzar N_exper veces una moneda equilibrada\n",
    "    probabilidades = [binom_prob(N_exper, k, 0.5) for k in range(1, N_exper + 1)]\n",
    "    #p_value es la probabilidad de que la salida sea mayor o igual que N_caras\n",
    "    p_value = (np.sum(probabilidades[N_caras-1:]))\n",
    "    # Grafica la distribución de probabilidad calculada\n",
    "    plt.step(range(1, N_exper + 1), probabilidades, where='mid', color=azul)\n",
    "    plt.xlabel('número de caras')\n",
    "    plt.ylabel('probabilidad')\n",
    "    plt.plot((N_caras, N_caras), (0, max(probabilidades)), color=rojo)\n",
    "    \n",
    "    porc = round((p_value)*100,3)\n",
    "    plt.annotate( str(porc) + '%', \n",
    "                 xytext=(N_caras + 10, max(probabilidades)/2), \n",
    "                 xy=(N_caras, max(probabilidades)/2), \n",
    "                 multialignment='right',\n",
    "                 va='center',\n",
    "                 color=rojo,\n",
    "#                  size='large',\n",
    "                 arrowprops={'arrowstyle': '<|-', \n",
    "                             'lw': 1, \n",
    "                             'color': rojo, \n",
    "                             'shrinkA': 1})\n",
    "    return p_value"
   ]
  },
  {
   "cell_type": "code",
   "execution_count": 414,
   "metadata": {},
   "outputs": [
    {
     "data": {
      "text/plain": [
       "0.5561375863296085"
      ]
     },
     "execution_count": 414,
     "metadata": {},
     "output_type": "execute_result"
    },
    {
     "data": {
      "image/png": "[encoded data removed]",
      "text/plain": [
       "<Figure size 432x288 with 1 Axes>"
      ]
     },
     "metadata": {},
     "output_type": "display_data"
    }
   ],
   "source": [
    "lanzaMoneda(25,50)\n"
   ]
  },
  {
   "cell_type": "code",
   "execution_count": 415,
   "metadata": {
    "scrolled": true
   },
   "outputs": [
    {
     "name": "stdout",
     "output_type": "stream",
     "text": [
      "P-value simulado: 51.1%\n"
     ]
    },
    {
     "data": {
      "text/plain": [
       "0.5126125090891804"
      ]
     },
     "execution_count": 415,
     "metadata": {},
     "output_type": "execute_result"
    },
    {
     "data": {
      "image/png": "[encoded data removed]",
      "text/plain": [
       "<Figure size 432x288 with 1 Axes>"
      ]
     },
     "metadata": {},
     "output_type": "display_data"
    }
   ],
   "source": [
    "#Simularemos directamente el lanzamiento de la moneda considerando # valores aleatorios para el resultado de cada lanzamiento\n",
    "M = 0\n",
    "n = 1000  # cambie este valor.\n",
    "N_caras = 500\n",
    "N_exper = 1000\n",
    "for i in range(n):\n",
    "    #genera N_exper valores aleatorios 0 o 1\n",
    "    ensayos = np.random.randint(2, size=N_exper)\n",
    "    if (ensayos.sum() >= N_caras):\n",
    "        M += 1\n",
    "p = M / n\n",
    "\n",
    "print(\"P-value simulado: %0.1f%%\" % (p * 100))\n",
    "lanzaMoneda(N_caras,N_exper)"
   ]
  },
  {
   "cell_type": "markdown",
   "metadata": {},
   "source": [
    "### Preguntas \n",
    "1. Utilice distintos valores para N_caras y N_exper ¿Qué es el valor \"p\" en ambos casos?\n",
    "\n",
    "\n",
    "\n",
    "    R:// p representa las probabilidades de obtener mas de N_caras realizando N_exper lanzamientos de moneda. \n",
    "    \n",
    "    \n",
    "2. En el código de la simulación, reemplace el valor n ¿Desde qué cantidad la simulación reemplaza el análisis estadístico? Grafique\n",
    "\n",
    "\n",
    "  R:// dependiendo del numero de monedas que se lancen, eso igual ayudara a disminuir el ruido en los resultados, nosotros intentamos hacerlo con una gran cantidad de monedas 1000 y buscar sobre 500 caras para tratar de eliminar ese factor y centrarnos solamente en estudiar la influencia de la variacion del n sobre la probabilidad obtenida, obviamente nunca será lo mismo que la probabilidad teorica, pero sobre un n de 500 se obtienen resultados bastante interesantes "
   ]
  },
  {
   "cell_type": "code",
   "execution_count": 425,
   "metadata": {
    "scrolled": true
   },
   "outputs": [
    {
     "data": {
      "text/plain": [
       "<matplotlib.lines.Line2D at 0x19643ddd8b0>"
      ]
     },
     "execution_count": 425,
     "metadata": {},
     "output_type": "execute_result"
    },
    {
     "data": {
      "image/png": "[encoded data removed]",
      "text/plain": [
       "<Figure size 432x288 with 1 Axes>"
      ]
     },
     "metadata": {},
     "output_type": "display_data"
    }
   ],
   "source": [
    "#Simularemos directamente el lanzamiento de la moneda considerando # valores aleatorios para el resultado de cada lanzamiento\n",
    "\n",
    "rep = 10 \n",
    "n = 1000  # cambie este valor.\n",
    "N_caras = 500\n",
    "N_exper = 1000\n",
    "resultados = []\n",
    "\n",
    "for j in range(1, n):\n",
    "    M = 0\n",
    "    for i in range(j):\n",
    "        #genera N_exper valores aleatorios 0 o 1\n",
    "        ensayos = np.random.randint(2, size=N_exper)\n",
    "        if (ensayos.sum() >= N_caras):\n",
    "            M += 1\n",
    "    p = M / j\n",
    "    resultados.append([p,j])\n",
    "    #print(\"P-value simulado: %0.1f%%\" % (p * 100))\n",
    "p_teorico = lanzaMoneda(N_caras,N_exper)\n",
    "\n",
    "sns.set_theme(style=\"whitegrid\")\n",
    "plt.clf()\n",
    "df=pd.DataFrame(resultados)\n",
    "#data = pd.DataFrame(df[0], df[1])\n",
    "\n",
    "a= sns.lineplot(data=pd.DataFrame(df[0], df[1]), palette=\"tab10\", linewidth=2.5)\n",
    "a.axhline(p_teorico, color=\"red\")\n"
   ]
  },
  {
   "cell_type": "markdown",
   "metadata": {},
   "source": [
    "## Ejercicio \n",
    "En un certamen literario hay 3 premios: ganador, finalista y mención honrosa. Si participan 10 personas en el certamen, se puede definir, el espacio muestral de los posibles resultados como:\n",
    "\n",
    "${S = \\{ \\text{todas las formas de ordenar } (1,2,3,4,5,6,7,8,9,10) \\}}$\n",
    "\n",
    "En donde los números identifican a cada una de las 10 personas y  las primeras tres ubicaciones corresponden a los escritores premiados.\n",
    "\n",
    "Sea ${A}$ el evento en que la persona #1 obtiene un premio, el evento ${B}$ denota que la persona #2 es finalista, y el evento ${C}$ es quela persona #3 gana la mención honrosa.\n",
    "\n",
    "Simule e indique la probabilidad de: \n",
    "\n",
    "(a) $A \\cup B$ \n",
    "\n",
    "(b) $A \\cap B$\n",
    "\n",
    "(c) $A \\cap B \\cap C$\n",
    "\n",
    "(d) $A \\cup (B\\cap C)$\n",
    "\n",
    "\n",
    "puede usar random.shuffle de la biblioteca random para generar permutaciones aleatorias de [1,2,...,10] "
   ]
  },
  {
   "cell_type": "code",
   "execution_count": 529,
   "metadata": {},
   "outputs": [],
   "source": [
    "import random\n",
    "\n",
    "S = np.arange(1,11,1)\n",
    "\n",
    "\n",
    "\n",
    "def verify(number, position):\n",
    "    for i in position:\n",
    "        if number == S[i]: return True\n",
    "    return False\n",
    "\n",
    "def run_experiment(times, event, union):\n",
    "    c=0;\n",
    "    for i in range(times):\n",
    "        random.shuffle(S)\n",
    "        control_array = np.array([False for x in range(event.shape[0])])\n",
    "        for i, [number, positions] in enumerate(event):\n",
    "            control_array[i]=verify(number, positions)\n",
    "            \n",
    "        if(union):\n",
    "            if control_array.any():c+=1\n",
    "        else:\n",
    "            if control_array.all(): c+=1\n",
    "          \n",
    "    probability= c/times    \n",
    "    return probability\n",
    "            \n",
    "     \n",
    "def run_experiment_4(times, event, success_options):\n",
    "    c=0;\n",
    "    for i in range(times):\n",
    "        random.shuffle(S)\n",
    "        control_array = np.array([False for x in range(event.shape[0])])\n",
    "        method_control = np.array([False for x in range(success_options.__len__())])\n",
    "        \n",
    "        for i, [number, positions] in enumerate(event):\n",
    "            control_array[i]=verify(number, positions)   \n",
    "            \n",
    "        for i, _or in enumerate(success_options):            \n",
    "            cache=[]\n",
    "            for _and in _or:\n",
    "                cache.append(control_array[_and])\n",
    "            #print(cache)\n",
    "            \n",
    "            method_control[i]= all(cache)\n",
    "        if any(method_control): c+=1\n",
    "          \n",
    "    probability= c/times    \n",
    "    return probability"
   ]
  },
  {
   "cell_type": "code",
   "execution_count": 492,
   "metadata": {},
   "outputs": [],
   "source": [
    "A= [1,[0,1,2]]\n",
    "B= [2,[1]]\n",
    "C= [3, [3]]"
   ]
  },
  {
   "cell_type": "markdown",
   "metadata": {},
   "source": [
    "### Ejericio a)"
   ]
  },
  {
   "cell_type": "code",
   "execution_count": 436,
   "metadata": {
    "scrolled": true
   },
   "outputs": [
    {
     "name": "stdout",
     "output_type": "stream",
     "text": [
      "la probabilidad obtenida es: 0.3775299999999994\n"
     ]
    }
   ],
   "source": [
    "\n",
    "\n",
    "experiment_1 = np.array([A,B], dtype=object)\n",
    "mean=0\n",
    "for i in range(1000):\n",
    "    mean+= run_experiment(100 ,experiment_1, union=True)\n",
    "    probability = mean/1000\n",
    "print(\"la probabilidad obtenida es: \"+ str(probability))"
   ]
  },
  {
   "cell_type": "markdown",
   "metadata": {},
   "source": [
    "### Ejericio b)\n"
   ]
  },
  {
   "cell_type": "code",
   "execution_count": 437,
   "metadata": {},
   "outputs": [
    {
     "name": "stdout",
     "output_type": "stream",
     "text": [
      "la probabilidad obtenida es: 0.022489999999999975\n"
     ]
    }
   ],
   "source": [
    "\n",
    "experiment_2 = np.array([A,B], dtype=object)\n",
    "mean=0\n",
    "for i in range(1000):\n",
    "    mean+= run_experiment(100 ,experiment_2, union=False)\n",
    "    probability = mean/1000\n",
    "print(\"la probabilidad obtenida es: \"+ str(probability))"
   ]
  },
  {
   "cell_type": "markdown",
   "metadata": {},
   "source": [
    "### Ejericio c)\n"
   ]
  },
  {
   "cell_type": "code",
   "execution_count": 439,
   "metadata": {},
   "outputs": [
    {
     "name": "stdout",
     "output_type": "stream",
     "text": [
      "la probabilidad obtenida es: 0.02199999999999998\n"
     ]
    }
   ],
   "source": [
    "\n",
    "experiment_3 = np.array([A,B,C], dtype=object)\n",
    "mean=0\n",
    "for i in range(1000):\n",
    "    mean+= run_experiment(100 ,experiment_3, union=False)\n",
    "    probability = mean/1000\n",
    "print(\"la probabilidad obtenida es: \"+ str(probability))"
   ]
  },
  {
   "cell_type": "markdown",
   "metadata": {},
   "source": [
    "### Ejericio d)"
   ]
  },
  {
   "cell_type": "code",
   "execution_count": 584,
   "metadata": {},
   "outputs": [
    {
     "name": "stdout",
     "output_type": "stream",
     "text": [
      "la probabilidad obtenida es: 30.591000000000086\n"
     ]
    }
   ],
   "source": [
    "experiment_4 = np.array([A,B,C], dtype=object)\n",
    "mean=0\n",
    "for i in range(1000):\n",
    "    mean+= run_experiment_4(100 ,experiment_4, [[0],[1,2]])\n",
    "    probability = mean/10\n",
    "print(\"la probabilidad obtenida es: \"+ str(probability))"
   ]
  },
  {
   "cell_type": "markdown",
   "metadata": {},
   "source": [
    "# Referencias\n",
    "1. https://github.com/croach/statistics-for-hackers/blob/master/statistics-for-hackers.ipynb\n",
    "2. Ross, S. M. (2006). Simulation. Elsevier."
   ]
  }
 ],
 "metadata": {
  "kernelspec": {
   "display_name": "Python 3",
   "language": "python",
   "name": "python3"
  },
  "language_info": {
   "codemirror_mode": {
    "name": "ipython",
    "version": 3
   },
   "file_extension": ".py",
   "mimetype": "text/x-python",
   "name": "python",
   "nbconvert_exporter": "python",
   "pygments_lexer": "ipython3",
   "version": "3.8.5"
  }
 },
 "nbformat": 4,
 "nbformat_minor": 2
}
