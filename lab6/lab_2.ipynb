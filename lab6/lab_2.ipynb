{
 "cells": [
  {
   "cell_type": "markdown",
   "metadata": {},
   "source": [
    "# Simulación de Monte Carlo\n",
    "\n",
    "## Juego de cartas\n",
    "\n",
    "Sea una mazo de naipes francés con 52 cartas divididas en cuatro palos: corazones, treboles, diamantes y picas. Cada palo tiene 13 cartas: el as, los números del 2 al 10, la jota, la reina y el rey. \n",
    "\n",
    "<img src=\"images/cards.png\">\n",
    "\n",
    "Si barajamos las cartas desordenando el mazo, ¿Cuál es la probabilidad de que aparezcan **al menos** dos reyes juntos?\n",
    "\n",
    "En este ejercicio se pide que realice una simulación de Monte Carlo para resolver este problema\n",
    "\n",
    "1. Escriba una función que cree una lista con las 52 cartas \n",
    "1. Baraje las cartas, puede usar la función [`shuffle`](https://docs.python.org/3/library/random.html#random.shuffle) del módulo `random`\n",
    "1. Escriba una función que verifique si hay al menos dos reyes juntos\n",
    "1. Repita $N$ veces. Grafique la probabilidad de obtener al menos dos reyes versus $N$. Considere un espaciado logarítmico para $N$\n",
    "1. La solución analítica para este problema es $0.217376$. Compare su resultado con esta solución analítica"
   ]
  },
  {
   "cell_type": "code",
   "execution_count": 17,
   "metadata": {},
   "outputs": [],
   "source": [
    "import random"
   ]
  },
  {
   "cell_type": "code",
   "execution_count": 23,
   "metadata": {},
   "outputs": [],
   "source": [
    "tipos= [\"corazon\", \"trebol\", \"diamante\", \"pica\"]\n",
    "valor= [x for x in range(1, 14)]\n",
    "mazo= [(i,j) for j in tipos for i in valor]\n",
    "\n"
   ]
  },
  {
   "cell_type": "code",
   "execution_count": 24,
   "metadata": {
    "scrolled": true
   },
   "outputs": [
    {
     "data": {
      "text/plain": [
       "[(1, 'corazon'),\n",
       " (2, 'corazon'),\n",
       " (3, 'corazon'),\n",
       " (4, 'corazon'),\n",
       " (5, 'corazon'),\n",
       " (6, 'corazon'),\n",
       " (7, 'corazon'),\n",
       " (8, 'corazon'),\n",
       " (9, 'corazon'),\n",
       " (10, 'corazon'),\n",
       " (11, 'corazon'),\n",
       " (12, 'corazon'),\n",
       " (13, 'corazon'),\n",
       " (1, 'trebol'),\n",
       " (2, 'trebol'),\n",
       " (3, 'trebol'),\n",
       " (4, 'trebol'),\n",
       " (5, 'trebol'),\n",
       " (6, 'trebol'),\n",
       " (7, 'trebol'),\n",
       " (8, 'trebol'),\n",
       " (9, 'trebol'),\n",
       " (10, 'trebol'),\n",
       " (11, 'trebol'),\n",
       " (12, 'trebol'),\n",
       " (13, 'trebol'),\n",
       " (1, 'diamante'),\n",
       " (2, 'diamante'),\n",
       " (3, 'diamante'),\n",
       " (4, 'diamante'),\n",
       " (5, 'diamante'),\n",
       " (6, 'diamante'),\n",
       " (7, 'diamante'),\n",
       " (8, 'diamante'),\n",
       " (9, 'diamante'),\n",
       " (10, 'diamante'),\n",
       " (11, 'diamante'),\n",
       " (12, 'diamante'),\n",
       " (13, 'diamante'),\n",
       " (1, 'pica'),\n",
       " (2, 'pica'),\n",
       " (3, 'pica'),\n",
       " (4, 'pica'),\n",
       " (5, 'pica'),\n",
       " (6, 'pica'),\n",
       " (7, 'pica'),\n",
       " (8, 'pica'),\n",
       " (9, 'pica'),\n",
       " (10, 'pica'),\n",
       " (11, 'pica'),\n",
       " (12, 'pica'),\n",
       " (13, 'pica')]"
      ]
     },
     "execution_count": 24,
     "metadata": {},
     "output_type": "execute_result"
    }
   ],
   "source": []
  },
  {
   "cell_type": "code",
   "execution_count": 28,
   "metadata": {},
   "outputs": [],
   "source": [
    "random.shuffle(mazo)"
   ]
  },
  {
   "cell_type": "code",
   "execution_count": 31,
   "metadata": {
    "scrolled": true
   },
   "outputs": [
    {
     "data": {
      "text/plain": [
       "2"
      ]
     },
     "execution_count": 31,
     "metadata": {},
     "output_type": "execute_result"
    }
   ],
   "source": [
    "mazo[0][0]"
   ]
  },
  {
   "cell_type": "markdown",
   "metadata": {},
   "source": [
    "## Caminata aleatoria económica\n",
    "\n",
    "Considere la siguiente rutina que recopila el precio de cierre y las retornos (diferencia entre precios de cierre sucesivos) de las acciones de Apple desde 2009 hasta 2019\n"
   ]
  },
  {
   "cell_type": "code",
   "execution_count": null,
   "metadata": {},
   "outputs": [],
   "source": [
    "import datetime as dt\n",
    "import pandas as pd\n",
    "import pandas_datareader.data as web # conda install pandas-datareader\n",
    "%matplotlib notebook\n",
    "import matplotlib.pyplot as plt\n",
    "\n",
    "start, end = dt.datetime(2009, 12, 30), dt.datetime(2019, 5, 29)\n",
    "prices = web.DataReader('AAPL', 'yahoo', start, end)['Close']\n",
    "\n",
    "fig, ax = plt.subplots(figsize=(6, 3), tight_layout=True)\n",
    "prices.plot(ax=ax);"
   ]
  },
  {
   "cell_type": "markdown",
   "metadata": {},
   "source": [
    "Utilice una simulación por Monte-Carlo para predecir el precio de la acción en los próximos 500 días\n",
    "\n",
    "Para esto considere un modelo de movimiento aleatorio de tipo Browniano\n",
    "\n",
    "$$\n",
    "P_t = P_{t-1} e^{\\alpha + z_t \\sigma}\n",
    "$$\n",
    "\n",
    "donde la variación en el precio de cierre está explicada por un compontente constante y otro aleatorio\n",
    "\n",
    "- $\\alpha$ es el promedio de $\\log P_t / P_{t-1}$\n",
    "- $\\sigma$ es la desviación estándar de $\\log P_t / P_{t-1}$\n",
    "- $z_t \\sim N(0, 1)$\n",
    "\n",
    "Muestre el resultado como un cono de probabilidad"
   ]
  },
  {
   "cell_type": "code",
   "execution_count": null,
   "metadata": {},
   "outputs": [],
   "source": []
  }
 ],
 "metadata": {
  "kernelspec": {
   "display_name": "Python 3",
   "language": "python",
   "name": "python3"
  },
  "language_info": {
   "codemirror_mode": {
    "name": "ipython",
    "version": 3
   },
   "file_extension": ".py",
   "mimetype": "text/x-python",
   "name": "python",
   "nbconvert_exporter": "python",
   "pygments_lexer": "ipython3",
   "version": "3.8.5"
  },
  "toc": {
   "base_numbering": 1,
   "nav_menu": {},
   "number_sections": true,
   "sideBar": true,
   "skip_h1_title": false,
   "title_cell": "Table of Contents",
   "title_sidebar": "Contents",
   "toc_cell": false,
   "toc_position": {},
   "toc_section_display": true,
   "toc_window_display": false
  }
 },
 "nbformat": 4,
 "nbformat_minor": 2
}
