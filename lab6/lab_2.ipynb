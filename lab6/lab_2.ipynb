{
 "cells": [
  {
   "cell_type": "markdown",
   "metadata": {},
   "source": [
    "# Simulación de Monte Carlo\n",
    "\n",
    "## Juego de cartas\n",
    "\n",
    "Sea una mazo de naipes francés con 52 cartas divididas en cuatro palos: corazones, treboles, diamantes y picas. Cada palo tiene 13 cartas: el as, los números del 2 al 10, la jota, la reina y el rey. \n",
    "\n",
    "<img src=\"images/cards.png\">\n",
    "\n",
    "Si barajamos las cartas desordenando el mazo, ¿Cuál es la probabilidad de que aparezcan **al menos** dos reyes juntos?\n",
    "\n",
    "En este ejercicio se pide que realice una simulación de Monte Carlo para resolver este problema\n",
    "\n",
    "1. Escriba una función que cree una lista con las 52 cartas \n",
    "1. Baraje las cartas, puede usar la función [`shuffle`](https://docs.python.org/3/library/random.html#random.shuffle) del módulo `random`\n",
    "1. Escriba una función que verifique si hay al menos dos reyes juntos\n",
    "1. Repita $N$ veces. Grafique la probabilidad de obtener al menos dos reyes versus $N$. Considere un espaciado logarítmico para $N$\n",
    "1. La solución analítica para este problema es $0.217376$. Compare su resultado con esta solución analítica"
   ]
  },
  {
   "cell_type": "code",
   "execution_count": 78,
   "metadata": {},
   "outputs": [],
   "source": [
    "import random\n",
    "import numpy as np\n",
    "import matplotlib.pyplot as plt"
   ]
  },
  {
   "cell_type": "code",
   "execution_count": 23,
   "metadata": {},
   "outputs": [],
   "source": [
    "tipos= [\"corazon\", \"trebol\", \"diamante\", \"pica\"]\n",
    "valor= [x for x in range(1, 14)]\n",
    "mazo= [(i,j) for j in tipos for i in valor]\n",
    "\n"
   ]
  },
  {
   "cell_type": "code",
   "execution_count": 57,
   "metadata": {},
   "outputs": [],
   "source": [
    "def verify_kings_together(baraja):\n",
    "    for i, card in enumerate(baraja[1:]):\n",
    "        if card[0] == baraja[i][0] == 13:\n",
    "            \n",
    "            return 1\n",
    "    return 0    \n",
    "    \n",
    "    "
   ]
  },
  {
   "cell_type": "code",
   "execution_count": 74,
   "metadata": {},
   "outputs": [
    {
     "name": "stdout",
     "output_type": "stream",
     "text": [
      "[0.1, 0.22857142857142856, 0.29457364341085274, 0.22413793103448276, 0.23501199040767387, 0.21021021021021022, 0.21834385443743037, 0.2170976157879782, 0.21801225494600276, 0.217685]\n"
     ]
    }
   ],
   "source": [
    "vector = [int(x) for x in np.logspace(1, 6, num=10)]\n",
    "results= []\n",
    "\n",
    "for N in vector:\n",
    "    contador=0\n",
    "    for i in range(N):\n",
    "        random.shuffle(mazo)\n",
    "        contador = contador + verify_kings_together(mazo)\n",
    "    results.append(contador/N)\n",
    "    \n",
    "print(results)        \n",
    "        \n",
    "        "
   ]
  },
  {
   "cell_type": "code",
   "execution_count": 83,
   "metadata": {},
   "outputs": [
    {
     "data": {
      "image/png": "[encoded data removed]",
      "text/plain": [
       "<Figure size 432x288 with 1 Axes>"
      ]
     },
     "metadata": {
      "needs_background": "light"
     },
     "output_type": "display_data"
    }
   ],
   "source": [
    "fig, ax = plt.subplots()\n",
    "ax.plot(vector, results)\n",
    "plt.xscale(\"log\")"
   ]
  },
  {
   "cell_type": "markdown",
   "metadata": {},
   "source": [
    "## Caminata aleatoria económica\n",
    "\n",
    "Considere la siguiente rutina que recopila el precio de cierre y las retornos (diferencia entre precios de cierre sucesivos) de las acciones de Apple desde 2009 hasta 2019\n"
   ]
  },
  {
   "cell_type": "code",
   "execution_count": null,
   "metadata": {},
   "outputs": [],
   "source": [
    "import datetime as dt\n",
    "import pandas as pd\n",
    "import pandas_datareader.data as web # conda install pandas-datareader\n",
    "%matplotlib notebook\n",
    "import matplotlib.pyplot as plt\n",
    "\n",
    "start, end = dt.datetime(2009, 12, 30), dt.datetime(2019, 5, 29)\n",
    "prices = web.DataReader('AAPL', 'yahoo', start, end)['Close']\n",
    "\n",
    "fig, ax = plt.subplots(figsize=(6, 3), tight_layout=True)\n",
    "prices.plot(ax=ax);"
   ]
  },
  {
   "cell_type": "markdown",
   "metadata": {},
   "source": [
    "Utilice una simulación por Monte-Carlo para predecir el precio de la acción en los próximos 500 días\n",
    "\n",
    "Para esto considere un modelo de movimiento aleatorio de tipo Browniano\n",
    "\n",
    "$$\n",
    "P_t = P_{t-1} e^{\\alpha + z_t \\sigma}\n",
    "$$\n",
    "\n",
    "donde la variación en el precio de cierre está explicada por un compontente constante y otro aleatorio\n",
    "\n",
    "- $\\alpha$ es el promedio de $\\log P_t / P_{t-1}$\n",
    "- $\\sigma$ es la desviación estándar de $\\log P_t / P_{t-1}$\n",
    "- $z_t \\sim N(0, 1)$\n",
    "\n",
    "Muestre el resultado como un cono de probabilidad"
   ]
  },
  {
   "cell_type": "code",
   "execution_count": null,
   "metadata": {},
   "outputs": [],
   "source": []
  }
 ],
 "metadata": {
  "kernelspec": {
   "display_name": "Python 3",
   "language": "python",
   "name": "python3"
  },
  "language_info": {
   "codemirror_mode": {
    "name": "ipython",
    "version": 3
   },
   "file_extension": ".py",
   "mimetype": "text/x-python",
   "name": "python",
   "nbconvert_exporter": "python",
   "pygments_lexer": "ipython3",
   "version": "3.8.5"
  },
  "toc": {
   "base_numbering": 1,
   "nav_menu": {},
   "number_sections": true,
   "sideBar": true,
   "skip_h1_title": false,
   "title_cell": "Table of Contents",
   "title_sidebar": "Contents",
   "toc_cell": false,
   "toc_position": {},
   "toc_section_display": true,
   "toc_window_display": false
  }
 },
 "nbformat": 4,
 "nbformat_minor": 2
}
